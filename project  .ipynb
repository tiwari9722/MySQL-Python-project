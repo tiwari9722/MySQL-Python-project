{
 "cells": [
  {
   "cell_type": "markdown",
   "id": "12ba1204",
   "metadata": {},
   "source": [
    "#### Q.1 You are working in a bank and you have been given two lists of the employees who worked in 2021. Employee’s name in list 1 are Ramesh, Suresh, Mahesh, Ali, Jacob and Saritha. List 2 contains the names of Ali, Mukesh, Mahesh, Jacob, Sai, Sarita. Please write a program which helps to identify people who are common in both lists. Please do not use any in-built function. "
   ]
  },
  {
   "cell_type": "code",
   "execution_count": 14,
   "id": "0432968f",
   "metadata": {},
   "outputs": [
    {
     "name": "stdout",
     "output_type": "stream",
     "text": [
      "The common elements in the two lists are: \n",
      "dict_keys(['Mahesh', 'Ali', 'Jacob'])\n"
     ]
    }
   ],
   "source": [
    "import collections\n",
    " \n",
    "def common_member(a, b):#name as member a and b\n",
    "    result = collections.Counter(a) & collections.Counter(b) #we find a collection.counter\n",
    "    return result.keys()\n",
    "  \n",
    "a = [ 'Ramesh','Suresh','Mahesh','Ali', 'Jacob','Saritha']\n",
    "b = ['Ali', 'Mukesh', 'Mahesh', 'Jacob', 'Sai', 'Sarita' ]\n",
    "  \n",
    "print(\"The common elements in the two lists are: \")\n",
    "print(common_member(a, b))"
   ]
  },
  {
   "cell_type": "markdown",
   "id": "ca2842b8",
   "metadata": {},
   "source": [
    "#### Q.2 While entering data, someone entered a few names as a common string “Ramesh Suresh Mohit”. Please write a program which separates all the names and convert them into a list. Once converted in a list, please write a program which adds their age. \n",
    "\n",
    "Ramesh :  25\n",
    "\n",
    "Suresh : 22\n",
    "\n",
    "Mohit : 26\n",
    "\n"
   ]
  },
  {
   "cell_type": "code",
   "execution_count": 31,
   "id": "b7a02a96",
   "metadata": {},
   "outputs": [
    {
     "name": "stdout",
     "output_type": "stream",
     "text": [
      "['Ramesh :25', 'Suresh :22', 'Mohit : 26']\n"
     ]
    }
   ],
   "source": [
    "def Convert(string):\n",
    "    list1 = []\n",
    "    list1[:0] = string\n",
    "    return list1\n",
    "  \n",
    "\n",
    "str = ['Ramesh :25',\n",
    "       'Suresh :22',\n",
    "       'Mohit : 26']\n",
    "print(Convert(str))\n"
   ]
  },
  {
   "cell_type": "markdown",
   "id": "e1512154",
   "metadata": {},
   "source": [
    "#### Q.3 A few students from a university have taken three exams\n",
    "\n",
    "Name = Sam, Jacy, Tom, Steve\n",
    "\n",
    "Python = 25, 26, 29, 28\n",
    "\n",
    "Statistics = 23, 21, 19, 25\n",
    "\n",
    "SQL = 29, 27, 28, 25\n",
    "\n",
    "Please write a program which calculates mean values (no in-built function for mean) of all \n",
    "three tests and print the highest mean value. Addition and other functions are allowed.\n",
    "Please also report who scored the highest mark in python using programming construct.  "
   ]
  },
  {
   "cell_type": "code",
   "execution_count": 4,
   "id": "3bc0bcf5",
   "metadata": {},
   "outputs": [
    {
     "name": "stdout",
     "output_type": "stream",
     "text": [
      "Enter name of student: sam\n",
      "Enter the marks of first subject: 25\n",
      "Enter the marks of second subject: 23\n",
      "Enter the marks of third subject: 29\n",
      "Total marks:  77\n",
      "Average marks:  25.666666666666668\n"
     ]
    }
   ],
   "source": [
    "name=str(input('Enter name of student: '))\n",
    "a = int(input(\"Enter the marks of first subject: \"))\n",
    "b = int(input(\"Enter the marks of second subject: \"))\n",
    "c = int(input(\"Enter the marks of third subject: \"))\n",
    "total = a+b+c\n",
    "avg = total/3\n",
    "print(\"Total marks: \",total)\n",
    "print(\"Average marks: \",avg)\n"
   ]
  },
  {
   "cell_type": "markdown",
   "id": "5dc3238c",
   "metadata": {},
   "source": [
    "#### Q.4  A patient came to your medical store and asked to buy 2 strips of paracetamol, 3 strips of azithromycin and 5 strips of Vitamin C. One strip of paracetamol costs Rs 35, one strip of azithromycin costs Rs 49 and one strip of vitamin c costs Rs. 33. Patient gave you Rs 2000. Please tell us what is the total cost of each medicine, total cost of all medicine and how much money you refunded to the patient?"
   ]
  },
  {
   "cell_type": "code",
   "execution_count": 2,
   "id": "895d7556",
   "metadata": {},
   "outputs": [
    {
     "name": "stdout",
     "output_type": "stream",
     "text": [
      "The original dictionary is : {'paracetamol': 2, 'azethromycin': 3, 'vitamin c': 5}\n",
      "Total cost of the medicine : 382\n",
      "Total amount refunded by the Patient : -1618\n"
     ]
    }
   ],
   "source": [
    "test_dict = {\"paracetamol\" : 2, \"azethromycin\" : 3, \"vitamin c\" : 5} #35,49,33\n",
    "  \n",
    "# printing original dictionary \n",
    "print(\"The original dictionary is : \" + str(test_dict)) \n",
    "  \n",
    "# initializing Frequency dict  \n",
    "cost_dict = {\"paracetamol\" : 35, \"azethromycin\" : 49, \"vitamin c\" : 33} \n",
    "\n",
    "total = sum([cost_dict[key] * test_dict[key]  for key in test_dict] )\n",
    "\n",
    "print (\"Total cost of the medicine : \" + str(total))\n",
    "  \n",
    "# using list comprehension and sum() to provide one-liner \n",
    "total = sum([cost_dict[key] * test_dict[key]  for key in test_dict] )-2000\n",
    "      \n",
    "# printing result  \n",
    "print(\"Total amount refunded by the Patient : \" + str(total)) "
   ]
  },
  {
   "cell_type": "markdown",
   "id": "7f9ed236",
   "metadata": {},
   "source": [
    "### Q.5 Accept a sentence as input and find the number of vowels in it. Assume that the sentence has no punctuation marks. For example: I am learning python contains 6 vowels. This function should be applicable for all other different sentences.\n",
    "\n"
   ]
  },
  {
   "cell_type": "code",
   "execution_count": 5,
   "id": "c655c584",
   "metadata": {},
   "outputs": [
    {
     "name": "stdout",
     "output_type": "stream",
     "text": [
      "No. of vowels : 6\n"
     ]
    }
   ],
   "source": [
    "def vowel_count(str):# Function to count vowel\n",
    "    \n",
    "    count = 0 #count as 0 \n",
    "    \n",
    "    vowel = set(\"aeiouAEIOU\")# Creating a set of vowels\n",
    "      \n",
    "    for alphabet in str: # If alphabet is present\n",
    "        \n",
    "        if alphabet in vowel: # in set vowel\n",
    "            count = count + 1\n",
    "      \n",
    "    print(\"No. of vowels :\", count)\n",
    "       \n",
    "str = \"i am learning python\"\n",
    "vowel_count(str)"
   ]
  },
  {
   "cell_type": "markdown",
   "id": "9283c32d",
   "metadata": {},
   "source": [
    "#### Q6: You have been appointed by the election commission to create a website. Your first task is to work on a program which tells candidates if they are eligible for voting or not. If they are eligible your output should be ‘Congrats! You are eligible’, otherwise it should tell that you have to return after X number of years. Eligibility criteria for voting is 18 years. \n",
    "\n",
    "\n",
    "For example, If someone is 18 or above your output should be ‘Congrats! You are eligible’. If someone’s age is 15 years it should print output as ‘return after 3 years’.  "
   ]
  },
  {
   "cell_type": "code",
   "execution_count": 1,
   "id": "6473c989",
   "metadata": {},
   "outputs": [
    {
     "name": "stdout",
     "output_type": "stream",
     "text": [
      "Enter age:15\n",
      "return after x no. years\n"
     ]
    }
   ],
   "source": [
    "age = int(input(\"Enter age:\"))\n",
    "\n",
    "if age >=18:\n",
    "    print(\"Congrats! you are eligible\")\n",
    "else:\n",
    "    print(\"return after x no. years\")"
   ]
  }
 ],
 "metadata": {
  "kernelspec": {
   "display_name": "Python 3 (ipykernel)",
   "language": "python",
   "name": "python3"
  },
  "language_info": {
   "codemirror_mode": {
    "name": "ipython",
    "version": 3
   },
   "file_extension": ".py",
   "mimetype": "text/x-python",
   "name": "python",
   "nbconvert_exporter": "python",
   "pygments_lexer": "ipython3",
   "version": "3.11.1"
  }
 },
 "nbformat": 4,
 "nbformat_minor": 5
}
